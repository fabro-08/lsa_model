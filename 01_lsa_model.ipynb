{
 "cells": [
  {
   "cell_type": "code",
   "execution_count": 1,
   "metadata": {},
   "outputs": [],
   "source": [
    "%load_ext autoreload\n",
    "%autoreload 2"
   ]
  },
  {
   "cell_type": "code",
   "execution_count": 2,
   "metadata": {},
   "outputs": [],
   "source": [
    "from langchain.llms import Ollama\n",
    "from langchain.chains import LLMChain\n",
    "from langchain.prompts import PromptTemplate"
   ]
  },
  {
   "cell_type": "code",
   "execution_count": 3,
   "metadata": {},
   "outputs": [
    {
     "name": "stderr",
     "output_type": "stream",
     "text": [
      "/var/folders/j5/kg03_vks30d8xhfbh1vg3hzm0000gn/T/ipykernel_1271/306404174.py:3: LangChainDeprecationWarning: The class `Ollama` was deprecated in LangChain 0.3.1 and will be removed in 1.0.0. An updated version of the class exists in the :class:`~langchain-ollama package and should be used instead. To use it run `pip install -U :class:`~langchain-ollama` and import as `from :class:`~langchain_ollama import OllamaLLM``.\n",
      "  model = Ollama(model=\"phi4\")\n"
     ]
    }
   ],
   "source": [
    "#model = Ollama(model=\"llama3.2\")\n",
    "#model = Ollama(model=\"deepseek-r1:32b\")\n",
    "model = Ollama(model=\"phi4\")"
   ]
  },
  {
   "cell_type": "markdown",
   "metadata": {},
   "source": [
    "# Castellano a LSA"
   ]
  },
  {
   "cell_type": "code",
   "execution_count": 16,
   "metadata": {},
   "outputs": [],
   "source": [
    "# Crear un template de prompt\n",
    "template = \"\"\"\n",
    "- LSA significa lengua de señas argentina. Es un sistema de comunicación que se utiliza en Argentina.\n",
    "- La oración en LSA tiene la siguiente estructura: tiempo + sujeto + objeto + verbo(infinitivo) + circunstanciales\n",
    "- En LSA los artículos no se señan y tampoco existe el verbo ser por ejemplo... la oración \"Juan es alto, delgado y bueno\", las señas erían \"Juan alto, delgado, bueno\"\n",
    "\n",
    "Ejemplos:\n",
    "\"yo comí una manzana ayer\" en LSA se traduce a \"ayer yo manzana comer\".\n",
    "\"hoy tenemos evaluación de matemática\" en LSA se traduce \"hoy evaluación matemática hay\"\n",
    "\"Juan viene en auto\" en LSA se traduce \"Juan auto venir\"\n",
    "\n",
    "Traducir la siguiente oración a LSA: {oracion}\n",
    "\n",
    "Solo mostrar la respuesta en LSA no agregar mas texto. Y respetar las oraciones y puntuaciones.\n",
    "\"\"\"\n",
    "prompt = PromptTemplate(input_variables=[\"input\"], template=template)"
   ]
  },
  {
   "cell_type": "code",
   "execution_count": 17,
   "metadata": {},
   "outputs": [],
   "source": [
    "# Crear un chain para generar respuestas\n",
    "llm_chain = LLMChain(llm=model, prompt=prompt)"
   ]
  },
  {
   "cell_type": "code",
   "execution_count": 18,
   "metadata": {},
   "outputs": [
    {
     "name": "stdout",
     "output_type": "stream",
     "text": [
      "precio compu alto  \n",
      "\n"
     ]
    }
   ],
   "source": [
    "# Ejecutar el modelo con un ejemplo de entrada\n",
    "oracion = \"El precio de la compu es alto\"\n",
    "output = llm_chain.run(oracion)\n",
    "print(output)"
   ]
  },
  {
   "cell_type": "code",
   "execution_count": 19,
   "metadata": {},
   "outputs": [
    {
     "name": "stdout",
     "output_type": "stream",
     "text": [
      "Oración en español: El perro está en el jardín\n",
      "Oración en LSA: perro jardín estar\n",
      "\n",
      "Oración en español: Mañana iremos al cine\n",
      "Oración en LSA: Mañana nosotros cine ir\n",
      "\n",
      "Oración en español: La computadora es nueva\n",
      "Oración en LSA: Computadora nueva\n",
      "\n",
      "Oración en español: Hoy es un buen día\n",
      "Oración en LSA: Hoy buen día\n",
      "\n",
      "Oración en español: El gato duerme en el sofá\n",
      "Oración en LSA: gato sofá dormir\n",
      "\n",
      "Oración en español: La casa es grande y bonita\n",
      "Oración en LSA: Casa grande, bonita\n",
      "\n",
      "Oración en español: El libro está en la mesa\n",
      "Oración en LSA: libro mesa estar\n",
      "\n",
      "Oración en español: Vamos a la playa el fin de semana\n",
      "Oración en LSA: fin de semana nosotros playa ir\n",
      "\n",
      "Oración en español: El coche es rápido y moderno\n",
      "Oración en LSA: Coche rápido, moderno\n",
      "\n",
      "Oración en español: La comida está deliciosa\n",
      "Oración en LSA: comida deliciosa estar\n",
      "\n"
     ]
    }
   ],
   "source": [
    "lista_oracion = [\n",
    "    \"El perro está en el jardín\",\n",
    "    \"Mañana iremos al cine\",\n",
    "    \"La computadora es nueva\",\n",
    "    \"Hoy es un buen día\",\n",
    "    \"El gato duerme en el sofá\",\n",
    "    \"La casa es grande y bonita\",\n",
    "    \"El libro está en la mesa\",\n",
    "    \"Vamos a la playa el fin de semana\",\n",
    "    \"El coche es rápido y moderno\",\n",
    "    \"La comida está deliciosa\"\n",
    "]\n",
    "\n",
    "resultado_lsa = []\n",
    "\n",
    "for oracion in lista_oracion:\n",
    "    output = llm_chain.run(oracion)\n",
    "    output = output.strip(' \\n')\n",
    "    resultado_lsa.append(output)\n",
    "\n",
    "for i in range(len(lista_oracion)):\n",
    "    print(f\"Oración en español: {lista_oracion[i]}\")\n",
    "    print(f\"Oración en LSA: {resultado_lsa[i]}\")\n",
    "    print(\"\")"
   ]
  },
  {
   "cell_type": "markdown",
   "metadata": {},
   "source": [
    "## Prueba de textos largos"
   ]
  },
  {
   "cell_type": "code",
   "execution_count": 20,
   "metadata": {},
   "outputs": [],
   "source": [
    "texto_a = \"\"\"\n",
    "Explicación Científica - Agujeros Negros y la Relatividad General\n",
    "\n",
    "“Los agujeros negros han sido una de las predicciones más fascinantes de la teoría de la relatividad general de Albert Einstein. Según esta teoría, si una estrella masiva agota su combustible y colapsa bajo su propia gravedad, puede formar una singularidad, un punto en el espacio donde la densidad es infinita y las leyes de la física clásica dejan de ser aplicables. La frontera de esta región, conocida como el horizonte de eventos, marca el límite a partir del cual nada, ni siquiera la luz, puede escapar. Los agujeros negros se clasifican en diferentes tipos según su masa: desde los agujeros negros de masa estelar, formados por el colapso de una estrella, hasta los agujeros negros supermasivos que se encuentran en el centro de muchas galaxias, incluyendo la Vía Láctea. La detección de estos objetos ha sido posible gracias a efectos como la emisión de rayos X de discos de acreción y las ondas gravitacionales detectadas por experimentos como LIGO y Virgo. A pesar de décadas de investigación, los agujeros negros siguen siendo un misterio, especialmente en lo que respecta a la conciliación de la relatividad general con la mecánica cuántica.”\n",
    "\"\"\""
   ]
  },
  {
   "cell_type": "code",
   "execution_count": 21,
   "metadata": {},
   "outputs": [],
   "source": [
    "texto_b = \"\"\"\n",
    "Análisis de un Fragmento Literario - “Cien Años de Soledad”\n",
    "\n",
    "“En ‘Cien años de soledad’, Gabriel García Márquez crea un universo donde lo real y lo fantástico se entrelazan sin fisuras. La historia de Macondo, un pueblo condenado a repetir su historia, es narrada con una estructura circular que refleja la fatalidad de los Buendía. Desde el inicio de la novela, cuando el coronel Aureliano Buendía recuerda la tarde en que su padre lo llevó a conocer el hielo, se establece una dinámica en la que el pasado y el futuro se encuentran en un eterno retorno. Márquez emplea el realismo mágico no solo como un recurso narrativo, sino como una manera de expresar la idiosincrasia latinoamericana, donde los mitos, las supersticiones y la historia conviven en el imaginario colectivo. A través de personajes inolvidables como Úrsula Iguarán y Remedios la Bella, el autor explora temas como el poder, el amor, la soledad y la inevitabilidad del destino. El lenguaje de la novela, repleto de hipérboles y metáforas deslumbrantes, contribuye a crear un relato en el que lo imposible se presenta con la misma naturalidad que lo cotidiano.”\n",
    "\"\"\""
   ]
  },
  {
   "cell_type": "code",
   "execution_count": 22,
   "metadata": {},
   "outputs": [],
   "source": [
    "texto_c = \"\"\"\n",
    "Discurso Inspirador - Innovación y el Futuro de la Tecnología\n",
    "\n",
    "“Vivimos en una era de avances tecnológicos sin precedentes, donde la inteligencia artificial, la biotecnología y la computación cuántica están redefiniendo los límites de lo posible. La historia nos ha enseñado que la innovación es el motor del progreso, desde la invención de la imprenta hasta la llegada del Internet. Pero la tecnología por sí sola no transforma el mundo; es la visión y el compromiso de quienes la desarrollan lo que impulsa el cambio. En este contexto, la inteligencia artificial no solo está automatizando tareas, sino que está permitiendo descubrimientos en áreas como la medicina, la astronomía y la sostenibilidad. La computación cuántica, por su parte, promete revolucionar la criptografía y la simulación de moléculas, abriendo puertas a nuevas curas para enfermedades. Sin embargo, con el avance tecnológico también surgen desafíos éticos. ¿Cómo aseguramos que la inteligencia artificial sea utilizada de manera responsable? ¿Cómo garantizamos que la automatización beneficie a todos y no solo a unos pocos? La respuesta está en la educación, en el desarrollo de políticas inclusivas y en la construcción de un futuro donde la tecnología sea una herramienta para el bienestar global. En las manos de esta generación está la responsabilidad de definir el curso de la historia.”\n",
    "\"\"\""
   ]
  },
  {
   "cell_type": "code",
   "execution_count": 23,
   "metadata": {},
   "outputs": [
    {
     "name": "stdout",
     "output_type": "stream",
     "text": [
      "Texto original:\n",
      "\n",
      "Explicación Científica - Agujeros Negros y la Relatividad General\n",
      "\n",
      "“Los agujeros negros han sido una de las predicciones más fascinantes de la teoría de la relatividad general de Albert Einstein. Según esta teoría, si una estrella masiva agota su combustible y colapsa bajo su propia gravedad, puede formar una singularidad, un punto en el espacio donde la densidad es infinita y las leyes de la física clásica dejan de ser aplicables. La frontera de esta región, conocida como el horizonte de eventos, marca el límite a partir del cual nada, ni siquiera la luz, puede escapar. Los agujeros negros se clasifican en diferentes tipos según su masa: desde los agujeros negros de masa estelar, formados por el colapso de una estrella, hasta los agujeros negros supermasivos que se encuentran en el centro de muchas galaxias, incluyendo la Vía Láctea. La detección de estos objetos ha sido posible gracias a efectos como la emisión de rayos X de discos de acreción y las ondas gravitacionales detectadas por experimentos como LIGO y Virgo. A pesar de décadas de investigación, los agujeros negros siguen siendo un misterio, especialmente en lo que respecta a la conciliación de la relatividad general con la mecánica cuántica.”\n",
      "\n",
      "\n",
      "Texto en LSA:\n",
      "\"Predicciones fascinantes teoría relatividad general Albert Einstein. Según teoría, estrella masiva combustible agota colapsa gravedad propia forma singularidad punto espacio densidad infinita leyes física clásica no aplican. Frontera región horizonte eventos límite nada luz escape. Clasificación tipos masa diferentes: desde masa estelar colapso estrella, hasta supermasivos galaxias centros Vía Láctea incluyendo. Detección posible gracias emisión rayos X discos acreción ondas gravitacionales experimentos LIGO Virgo. A pesar investigación décadas agujeros negros misterio permanecen especialmente conciliación relatividad general mecánica cuántica.\"\n",
      "\n",
      "------------------------------------------------------\n",
      "\n",
      "Texto original:\n",
      "\n",
      "Análisis de un Fragmento Literario - “Cien Años de Soledad”\n",
      "\n",
      "“En ‘Cien años de soledad’, Gabriel García Márquez crea un universo donde lo real y lo fantástico se entrelazan sin fisuras. La historia de Macondo, un pueblo condenado a repetir su historia, es narrada con una estructura circular que refleja la fatalidad de los Buendía. Desde el inicio de la novela, cuando el coronel Aureliano Buendía recuerda la tarde en que su padre lo llevó a conocer el hielo, se establece una dinámica en la que el pasado y el futuro se encuentran en un eterno retorno. Márquez emplea el realismo mágico no solo como un recurso narrativo, sino como una manera de expresar la idiosincrasia latinoamericana, donde los mitos, las supersticiones y la historia conviven en el imaginario colectivo. A través de personajes inolvidables como Úrsula Iguarán y Remedios la Bella, el autor explora temas como el poder, el amor, la soledad y la inevitabilidad del destino. El lenguaje de la novela, repleto de hipérboles y metáforas deslumbrantes, contribuye a crear un relato en el que lo imposible se presenta con la misma naturalidad que lo cotidiano.”\n",
      "\n",
      "\n",
      "Texto en LSA:\n",
      "\"Cien años de soledad\", Gabriel García Márquez universo crear donde real fantástico entrelazarse sin fisuras.\n",
      "Macondo historia, pueblo condenado repetir su historia, estructura circular narrar fatalidad Buendía reflejar.\n",
      "Novela inicio, Aureliano Buendía recuerda tarde padre hielo conocer, dinámica establecer pasado futuro eterno retorno encuentran.\n",
      "Márquez realismo mágico emplear no solo recurso narrativo sino expresar idiosincrasia latinoamericana mitos supersticiones historia imaginario colectivo convivir.\n",
      "Úrsula Iguarán Remedios Bella personajes inolvidables, autor explorar temas poder amor soledad destino inevitabilidad.\n",
      "Novela lenguaje hipérboles metáforas repleto contribuir relato crear imposible cotidiano naturalidad presentar.\n",
      "\n",
      "------------------------------------------------------\n",
      "\n",
      "Texto original:\n",
      "\n",
      "Discurso Inspirador - Innovación y el Futuro de la Tecnología\n",
      "\n",
      "“Vivimos en una era de avances tecnológicos sin precedentes, donde la inteligencia artificial, la biotecnología y la computación cuántica están redefiniendo los límites de lo posible. La historia nos ha enseñado que la innovación es el motor del progreso, desde la invención de la imprenta hasta la llegada del Internet. Pero la tecnología por sí sola no transforma el mundo; es la visión y el compromiso de quienes la desarrollan lo que impulsa el cambio. En este contexto, la inteligencia artificial no solo está automatizando tareas, sino que está permitiendo descubrimientos en áreas como la medicina, la astronomía y la sostenibilidad. La computación cuántica, por su parte, promete revolucionar la criptografía y la simulación de moléculas, abriendo puertas a nuevas curas para enfermedades. Sin embargo, con el avance tecnológico también surgen desafíos éticos. ¿Cómo aseguramos que la inteligencia artificial sea utilizada de manera responsable? ¿Cómo garantizamos que la automatización beneficie a todos y no solo a unos pocos? La respuesta está en la educación, en el desarrollo de políticas inclusivas y en la construcción de un futuro donde la tecnología sea una herramienta para el bienestar global. En las manos de esta generación está la responsabilidad de definir el curso de la historia.”\n",
      "\n",
      "\n",
      "Texto en LSA:\n",
      "Era avances tecnológicos sin precedentes vivimos, inteligencia artificial, biotecnología, computación cuántica límites de lo posible redefiniendo.\n",
      "\n",
      "Historia nos enseñado que innovación progreso motor es, desde imprenta invención hasta Internet llegada.\n",
      "\n",
      "Pero tecnología sola no mundo transforma; visión y compromiso desarrolladores cambio impulsa.\n",
      "\n",
      "Contexto este, inteligencia artificial tareas automatizando, medicina, astronomía, sostenibilidad descubrimientos permitiendo.\n",
      "\n",
      "Computación cuántica parte su promete criptografía revolucionar, moléculas simulación, nuevas curas enfermedades abriendo.\n",
      "\n",
      "Avance tecnológico desafíos éticos surgiendo; inteligencia artificial responsabilidad asegurar cómo; automatización beneficio para todos garantizar cómo?\n",
      "\n",
      "Respuesta en educación está, políticas inclusivas desarrollo, bienestar global herramienta tecnología construyendo futuro.\n",
      "\n",
      "Generación esta manos responsabilidad historia curso definir.\n",
      "\n",
      "------------------------------------------------------\n",
      "\n"
     ]
    }
   ],
   "source": [
    "lista_textos = [texto_a, texto_b, texto_c]\n",
    "\n",
    "resultado_lsa_textos = []\n",
    "\n",
    "for texto in lista_textos:\n",
    "    output = llm_chain.run(texto)\n",
    "    output = output.strip(' \\n')\n",
    "    resultado_lsa_textos.append(output)\n",
    "\n",
    "for i in range(len(lista_textos)):\n",
    "    print(f\"Texto original:\")\n",
    "    print(lista_textos[i])\n",
    "    print(\"\")\n",
    "    print(f\"Texto en LSA:\")\n",
    "    print(resultado_lsa_textos[i])\n",
    "    print(\"\")\n",
    "    print(\"------------------------------------------------------\")\n",
    "    print(\"\")"
   ]
  },
  {
   "cell_type": "markdown",
   "metadata": {},
   "source": [
    "# LSA a Castellano"
   ]
  },
  {
   "cell_type": "code",
   "execution_count": 24,
   "metadata": {},
   "outputs": [],
   "source": [
    "# Crear un template de prompt\n",
    "template = \"\"\"\n",
    "- LSA significa lengua de señas argentina. Es un sistema de comunicación que se utiliza en Argentina.\n",
    "- La oración en LSA tiene la siguiente estructura: tiempo + sujeto + objeto + verbo(infinitivo) + circunstanciales\n",
    "- En LSA los artículos no se señan y tampoco existe el verbo ser por ejemplo... la oración \"Juan es alto, delgado y bueno\", las señas erían \"Juan alto, delgado, bueno\"\n",
    "\n",
    "Ejemplos:\n",
    "\"yo comí una manzana ayer\" en LSA se traduce a \"ayer yo manzana comer\".\n",
    "\"hoy tenemos evaluación de matemática\" en LSA se traduce \"hoy evaluación matemática hay\"\n",
    "\"Juan viene en auto\" en LSA se traduce \"Juan auto venir\"\n",
    "\n",
    "Traducir la siguiente de LSA a castellano: {oracion}\n",
    "\n",
    "Solo mostrar la respuesta en castellano no agregar mas texto. Respetar las oraciones y puntuaciones.\n",
    "\"\"\"\n",
    "prompt = PromptTemplate(input_variables=[\"input\"], template=template)\n",
    "\n",
    "# Crear un chain para generar respuestas\n",
    "llm_chain = LLMChain(llm=model, prompt=prompt)"
   ]
  },
  {
   "cell_type": "code",
   "execution_count": 25,
   "metadata": {},
   "outputs": [
    {
     "name": "stdout",
     "output_type": "stream",
     "text": [
      "El precio de la computadora es alto.\n"
     ]
    }
   ],
   "source": [
    "# Ejecutar el modelo con un ejemplo de entrada\n",
    "oracion = \"precio compu alto\"\n",
    "output = llm_chain.run(oracion)\n",
    "print(output)"
   ]
  },
  {
   "cell_type": "code",
   "execution_count": 26,
   "metadata": {},
   "outputs": [
    {
     "name": "stdout",
     "output_type": "stream",
     "text": [
      "Oración en LSA: perro jardín estar\n",
      "Oración en castellano: El perro está en el jardín.\n",
      "\n",
      "Oración en LSA: Mañana nosotros cine ir\n",
      "Oración en castellano: Mañana nosotros iremos al cine.\n",
      "\n",
      "Oración en LSA: Computadora nueva\n",
      "Oración en castellano: Computadora nueva existe.  \n",
      "(Note: In LSA, the existence of an object is often implied through context, so \"existe\" is used to convey presence or availability.)\n",
      "\n",
      "Oración en LSA: Hoy buen día\n",
      "Oración en castellano: Hoy es un buen día.\n",
      "\n",
      "Oración en LSA: gato sofá dormir\n",
      "Oración en castellano: El gato duerme en el sofá.\n",
      "\n",
      "Oración en LSA: Casa grande, bonita\n",
      "Oración en castellano: La casa es grande y bonita.\n",
      "\n",
      "Oración en LSA: libro mesa estar\n",
      "Oración en castellano: El libro está en la mesa.\n",
      "\n",
      "Oración en LSA: fin de semana nosotros playa ir\n",
      "Oración en castellano: El fin de semana vamos a la playa.\n",
      "\n",
      "Oración en LSA: Coche rápido, moderno\n",
      "Oración en castellano: El coche es rápido, moderno.\n",
      "\n",
      "Oración en LSA: comida deliciosa estar\n",
      "Oración en castellano: La comida está deliciosa.\n",
      "\n"
     ]
    }
   ],
   "source": [
    "resultado_castellano = []\n",
    "\n",
    "for oracion in resultado_lsa:\n",
    "    output = llm_chain.run(oracion)\n",
    "    output = output.strip(' \\n')\n",
    "    resultado_castellano.append(output)\n",
    "\n",
    "for i in range(len(resultado_lsa)):\n",
    "    print(f\"Oración en LSA: {resultado_lsa[i]}\")\n",
    "    print(f\"Oración en castellano: {resultado_castellano[i]}\")\n",
    "    print(\"\")"
   ]
  },
  {
   "cell_type": "markdown",
   "metadata": {},
   "source": [
    "## Prueba textos largos"
   ]
  },
  {
   "cell_type": "code",
   "execution_count": 27,
   "metadata": {},
   "outputs": [
    {
     "name": "stdout",
     "output_type": "stream",
     "text": [
      "Texto en LSA:\n",
      "\"Predicciones fascinantes teoría relatividad general Albert Einstein. Según teoría, estrella masiva combustible agota colapsa gravedad propia forma singularidad punto espacio densidad infinita leyes física clásica no aplican. Frontera región horizonte eventos límite nada luz escape. Clasificación tipos masa diferentes: desde masa estelar colapso estrella, hasta supermasivos galaxias centros Vía Láctea incluyendo. Detección posible gracias emisión rayos X discos acreción ondas gravitacionales experimentos LIGO Virgo. A pesar investigación décadas agujeros negros misterio permanecen especialmente conciliación relatividad general mecánica cuántica.\"\n",
      "\n",
      "Texto en castellano:\n",
      "Las predicciones fascinantes de la teoría de la relatividad general de Albert Einstein incluyen que cuando una estrella masiva se agota de combustible, colapsa bajo su propia gravedad en una singularidad donde el espacio alcanza una densidad infinita y las leyes físicas clásicas ya no son aplicables. Hay un horizonte de eventos, una frontera alrededor del cual nada puede escapar, incluida la luz. Los agujeros negros se clasifican según su masa en tipos diferentes: desde el colapso de una estrella con masa estelar hasta los supermasivos ubicados en los centros de galaxias como la Vía Láctea. Su detección es posible gracias a la emisión de rayos X por discos de acreción y ondas gravitacionales detectadas por experimentos como LIGO y Virgo. A pesar de las investigaciones durante décadas, los agujeros negros siguen siendo un misterio, especialmente en cuanto a su conciliación con la mecánica cuántica.\n",
      "\n",
      "------------------------------------------------------\n",
      "\n",
      "Texto en LSA:\n",
      "\"Cien años de soledad\", Gabriel García Márquez universo crear donde real fantástico entrelazarse sin fisuras.\n",
      "Macondo historia, pueblo condenado repetir su historia, estructura circular narrar fatalidad Buendía reflejar.\n",
      "Novela inicio, Aureliano Buendía recuerda tarde padre hielo conocer, dinámica establecer pasado futuro eterno retorno encuentran.\n",
      "Márquez realismo mágico emplear no solo recurso narrativo sino expresar idiosincrasia latinoamericana mitos supersticiones historia imaginario colectivo convivir.\n",
      "Úrsula Iguarán Remedios Bella personajes inolvidables, autor explorar temas poder amor soledad destino inevitabilidad.\n",
      "Novela lenguaje hipérboles metáforas repleto contribuir relato crear imposible cotidiano naturalidad presentar.\n",
      "\n",
      "Texto en castellano:\n",
      "\"En 'Cien Años de Soledad', Gabriel García Márquez crea un universo donde lo real y lo fantástico se entrelazan sin fisuras. Es la historia de Macondo, un pueblo condenado a repetir su historia en una estructura circular que narra su fatalidad; los Buendía reflejan esto.\n",
      "\n",
      "La novela comienza cuando Aureliano Buendía recuerda tarde haber conocido a su padre por el hielo, estableciendo una dinámica entre pasado y futuro donde encuentran un eterno retorno. Márquez emplea el realismo mágico no solo como recurso narrativo, sino para expresar la idiosincrasia latinoamericana, mezclando mitos, supersticiones e historia en un imaginario colectivo.\n",
      "\n",
      "Entre los personajes inolvidables están Úrsula Iguarán y Remedios Bella. El autor explora temas como el poder, el amor, la soledad y la inevitabilidad del destino.\n",
      "\n",
      "La novela está repleta de lenguaje con hipérboles y metáforas, contribuyendo a crear un relato que presenta lo imposible en la cotidianeidad de manera natural.\"\n",
      "\n",
      "------------------------------------------------------\n",
      "\n",
      "Texto en LSA:\n",
      "Era avances tecnológicos sin precedentes vivimos, inteligencia artificial, biotecnología, computación cuántica límites de lo posible redefiniendo.\n",
      "\n",
      "Historia nos enseñado que innovación progreso motor es, desde imprenta invención hasta Internet llegada.\n",
      "\n",
      "Pero tecnología sola no mundo transforma; visión y compromiso desarrolladores cambio impulsa.\n",
      "\n",
      "Contexto este, inteligencia artificial tareas automatizando, medicina, astronomía, sostenibilidad descubrimientos permitiendo.\n",
      "\n",
      "Computación cuántica parte su promete criptografía revolucionar, moléculas simulación, nuevas curas enfermedades abriendo.\n",
      "\n",
      "Avance tecnológico desafíos éticos surgiendo; inteligencia artificial responsabilidad asegurar cómo; automatización beneficio para todos garantizar cómo?\n",
      "\n",
      "Respuesta en educación está, políticas inclusivas desarrollo, bienestar global herramienta tecnología construyendo futuro.\n",
      "\n",
      "Generación esta manos responsabilidad historia curso definir.\n",
      "\n",
      "Texto en castellano:\n",
      "Vivimos avances tecnológicos sin precedentes, inteligencia artificial, biotecnología, computación cuántica, redefiniendo los límites de lo posible.\n",
      "\n",
      "La historia nos ha enseñado que la innovación es el motor del progreso, desde la invención de la imprenta hasta la llegada de Internet.\n",
      "\n",
      "Pero la tecnología por sí sola no transforma al mundo; es la visión y el compromiso de los desarrolladores lo que impulsa el cambio.\n",
      "\n",
      "En este contexto, la inteligencia artificial automatiza tareas, permitiendo descubrimientos en medicina, astronomía y sostenibilidad.\n",
      "\n",
      "La computación cuántica promete revolucionar la criptografía, simular moléculas y abrir nuevas curas para enfermedades.\n",
      "\n",
      "Con el avance tecnológico surgen desafíos éticos; ¿cómo asegurar la responsabilidad de la inteligencia artificial? ¿Cómo garantizar que los beneficios de la automatización alcancen a todos?\n",
      "\n",
      "La respuesta está en educación, desarrollando políticas inclusivas y construyendo un futuro donde la tecnología sea una herramienta para el bienestar global.\n",
      "\n",
      "Esta generación tiene la responsabilidad de definir el curso de la historia.\n",
      "\n",
      "------------------------------------------------------\n",
      "\n"
     ]
    }
   ],
   "source": [
    "resultado_castellano_textos = []\n",
    "\n",
    "for texto in resultado_lsa_textos:\n",
    "    output = llm_chain.run(texto)\n",
    "    output = output.strip(' \\n')\n",
    "    resultado_castellano_textos.append(output)\n",
    "\n",
    "for i in range(len(resultado_lsa_textos)):\n",
    "    print(f\"Texto en LSA:\")\n",
    "    print(resultado_lsa_textos[i])\n",
    "    print(\"\")\n",
    "    print(f\"Texto en castellano:\")\n",
    "    print(resultado_castellano_textos[i])\n",
    "    print(\"\")\n",
    "    print(\"------------------------------------------------------\")\n",
    "    print(\"\")"
   ]
  },
  {
   "cell_type": "code",
   "execution_count": null,
   "metadata": {},
   "outputs": [],
   "source": []
  }
 ],
 "metadata": {
  "kernelspec": {
   "display_name": "lsa-env",
   "language": "python",
   "name": "python3"
  },
  "language_info": {
   "codemirror_mode": {
    "name": "ipython",
    "version": 3
   },
   "file_extension": ".py",
   "mimetype": "text/x-python",
   "name": "python",
   "nbconvert_exporter": "python",
   "pygments_lexer": "ipython3",
   "version": "3.13.2"
  }
 },
 "nbformat": 4,
 "nbformat_minor": 2
}
