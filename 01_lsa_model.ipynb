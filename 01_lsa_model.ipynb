{
 "cells": [
  {
   "cell_type": "code",
   "execution_count": 3,
   "metadata": {},
   "outputs": [],
   "source": [
    "%load_ext autoreload\n",
    "%autoreload 2"
   ]
  },
  {
   "cell_type": "code",
   "execution_count": 4,
   "metadata": {},
   "outputs": [],
   "source": [
    "from langchain.llms import Ollama\n",
    "from langchain.chains import LLMChain\n",
    "from langchain.prompts import PromptTemplate"
   ]
  },
  {
   "cell_type": "code",
   "execution_count": 22,
   "metadata": {},
   "outputs": [],
   "source": [
    "#model = Ollama(model=\"llama3.2\")\n",
    "#model = Ollama(model=\"deepseek-r1:32b\")\n",
    "model = Ollama(model=\"phi4\")"
   ]
  },
  {
   "cell_type": "markdown",
   "metadata": {},
   "source": [
    "# Castellano a LSA"
   ]
  },
  {
   "cell_type": "code",
   "execution_count": 45,
   "metadata": {},
   "outputs": [],
   "source": [
    "# Crear un template de prompt\n",
    "template = \"\"\"\n",
    "- LSA significa lengua de señas argentina. Es un sistema de comunicación que se utiliza en Argentina.\n",
    "- La oración en LSA tiene la siguiente estructura: tiempo + sujeto + objeto + verbo(infinitivo) + circunstanciales\n",
    "- En LSA los artículos no se señan y tampoco existe el verbo ser por ejemplo... la oración \"Juan es alto, delgado y bueno\", las señas erían \"Juan alto, delgado, bueno\"\n",
    "\n",
    "Ejemplos:\n",
    "\"yo comí una manzana ayer\" en LSA se traduce a \"ayer yo manzana comer\".\n",
    "\"hoy tenemos evaluación de matemática\" en LSA se traduce \"hoy evaluación matemática hay\"\n",
    "\"Juan viene en auto\" en LSA se traduce \"Juan auto venir\"\n",
    "\n",
    "Traducir la siguiente oración a LSA: {oracion}\n",
    "\n",
    "Solo mostrar la respuesta en LSA no agregar mas texto.\n",
    "\"\"\"\n",
    "prompt = PromptTemplate(input_variables=[\"input\"], template=template)"
   ]
  },
  {
   "cell_type": "code",
   "execution_count": 46,
   "metadata": {},
   "outputs": [],
   "source": [
    "# Crear un chain para generar respuestas\n",
    "llm_chain = LLMChain(llm=model, prompt=prompt)"
   ]
  },
  {
   "cell_type": "code",
   "execution_count": 47,
   "metadata": {},
   "outputs": [
    {
     "name": "stdout",
     "output_type": "stream",
     "text": [
      "precio compu alto\n"
     ]
    }
   ],
   "source": [
    "# Ejecutar el modelo con un ejemplo de entrada\n",
    "oracion = \"El precio de la compu es alto\"\n",
    "output = llm_chain.run(oracion)\n",
    "print(output)"
   ]
  },
  {
   "cell_type": "code",
   "execution_count": 48,
   "metadata": {},
   "outputs": [
    {
     "name": "stdout",
     "output_type": "stream",
     "text": [
      "Oración en español: El perro está en el jardín\n",
      "Oración en LSA: perro jardín estar\n",
      "\n",
      "Oración en español: Mañana iremos al cine\n",
      "Oración en LSA: Mañana nosotros cine ir\n",
      "\n",
      "Oración en español: La computadora es nueva\n",
      "Oración en LSA: computadora nueva\n",
      "\n",
      "Oración en español: Hoy es un buen día\n",
      "Oración en LSA: Hoy día bueno.\n",
      "\n",
      "Oración en español: El gato duerme en el sofá\n",
      "Oración en LSA: gato sofá dormir\n",
      "\n",
      "Oración en español: La casa es grande y bonita\n",
      "Oración en LSA: Casa grande, bonita.\n",
      "\n",
      "Oración en español: El libro está en la mesa\n",
      "Oración en LSA: Libro mesa estar\n",
      "\n",
      "Oración en español: Vamos a la playa el fin de semana\n",
      "Oración en LSA: fin de semana nosotros playa ir\n",
      "\n",
      "Oración en español: El coche es rápido y moderno\n",
      "Oración en LSA: Coche rápido, moderno.\n",
      "\n",
      "Oración en español: La comida está deliciosa\n",
      "Oración en LSA: comida deliciosa estar\n",
      "\n"
     ]
    }
   ],
   "source": [
    "lista_oracion = [\n",
    "    \"El perro está en el jardín\",\n",
    "    \"Mañana iremos al cine\",\n",
    "    \"La computadora es nueva\",\n",
    "    \"Hoy es un buen día\",\n",
    "    \"El gato duerme en el sofá\",\n",
    "    \"La casa es grande y bonita\",\n",
    "    \"El libro está en la mesa\",\n",
    "    \"Vamos a la playa el fin de semana\",\n",
    "    \"El coche es rápido y moderno\",\n",
    "    \"La comida está deliciosa\"\n",
    "]\n",
    "\n",
    "resultado_lsa = []\n",
    "\n",
    "for oracion in lista_oracion:\n",
    "    output = llm_chain.run(oracion)\n",
    "    output = output.strip(' \\n')\n",
    "    resultado_lsa.append(output)\n",
    "\n",
    "for i in range(len(lista_oracion)):\n",
    "    print(f\"Oración en español: {lista_oracion[i]}\")\n",
    "    print(f\"Oración en LSA: {resultado_lsa[i]}\")\n",
    "    print(\"\")"
   ]
  },
  {
   "cell_type": "markdown",
   "metadata": {},
   "source": [
    "# LSA a Castellano"
   ]
  },
  {
   "cell_type": "code",
   "execution_count": 49,
   "metadata": {},
   "outputs": [],
   "source": [
    "# Crear un template de prompt\n",
    "template = \"\"\"\n",
    "- LSA significa lengua de señas argentina. Es un sistema de comunicación que se utiliza en Argentina.\n",
    "- La oración en LSA tiene la siguiente estructura: tiempo + sujeto + objeto + verbo(infinitivo) + circunstanciales\n",
    "- En LSA los artículos no se señan y tampoco existe el verbo ser por ejemplo... la oración \"Juan es alto, delgado y bueno\", las señas erían \"Juan alto, delgado, bueno\"\n",
    "\n",
    "Ejemplos:\n",
    "\"yo comí una manzana ayer\" en LSA se traduce a \"ayer yo manzana comer\".\n",
    "\"hoy tenemos evaluación de matemática\" en LSA se traduce \"hoy evaluación matemática hay\"\n",
    "\"Juan viene en auto\" en LSA se traduce \"Juan auto venir\"\n",
    "\n",
    "Traducir la siguiente de LSA a castellano: {oracion}\n",
    "\n",
    "Solo mostrar la respuesta en castellano no agregar mas texto\n",
    "\"\"\"\n",
    "prompt = PromptTemplate(input_variables=[\"input\"], template=template)\n",
    "\n",
    "# Crear un chain para generar respuestas\n",
    "llm_chain = LLMChain(llm=model, prompt=prompt)"
   ]
  },
  {
   "cell_type": "code",
   "execution_count": 50,
   "metadata": {},
   "outputs": [
    {
     "name": "stdout",
     "output_type": "stream",
     "text": [
      "El precio de la computadora es alto.\n"
     ]
    }
   ],
   "source": [
    "# Ejecutar el modelo con un ejemplo de entrada\n",
    "oracion = \"precio compu alto\"\n",
    "output = llm_chain.run(oracion)\n",
    "print(output)"
   ]
  },
  {
   "cell_type": "code",
   "execution_count": 51,
   "metadata": {},
   "outputs": [
    {
     "name": "stdout",
     "output_type": "stream",
     "text": [
      "Oración en LSA: perro jardín estar\n",
      "Oración en castellano: El perro está en el jardín.\n",
      "\n",
      "Oración en LSA: Mañana nosotros cine ir\n",
      "Oración en castellano: Mañana nosotros al cine vamos.\n",
      "\n",
      "Oración en LSA: computadora nueva\n",
      "Oración en castellano: Una computadora nueva.\n",
      "\n",
      "Oración en LSA: Hoy día bueno.\n",
      "Oración en castellano: Hoy es un buen día.\n",
      "\n",
      "Oración en LSA: gato sofá dormir\n",
      "Oración en castellano: El gato duerme en el sofá.\n",
      "\n",
      "Oración en LSA: Casa grande, bonita.\n",
      "Oración en castellano: La casa es grande y bonita.\n",
      "\n",
      "Oración en LSA: Libro mesa estar\n",
      "Oración en castellano: El libro está sobre la mesa.\n",
      "\n",
      "Oración en LSA: fin de semana nosotros playa ir\n",
      "Oración en castellano: El fin de semana nosotros iremos a la playa.\n",
      "\n",
      "Oración en LSA: Coche rápido, moderno.\n",
      "Oración en castellano: El coche es rápido y moderno.\n",
      "\n",
      "Oración en LSA: comida deliciosa estar\n",
      "Oración en castellano: La comida está deliciosa.\n",
      "\n"
     ]
    }
   ],
   "source": [
    "resultado_castellano = []\n",
    "\n",
    "for oracion in resultado_lsa:\n",
    "    output = llm_chain.run(oracion)\n",
    "    output = output.strip(' \\n')\n",
    "    resultado_castellano.append(output)\n",
    "\n",
    "for i in range(len(resultado_lsa)):\n",
    "    print(f\"Oración en LSA: {resultado_lsa[i]}\")\n",
    "    print(f\"Oración en castellano: {resultado_castellano[i]}\")\n",
    "    print(\"\")"
   ]
  },
  {
   "cell_type": "code",
   "execution_count": null,
   "metadata": {},
   "outputs": [],
   "source": []
  }
 ],
 "metadata": {
  "kernelspec": {
   "display_name": "lsa-env",
   "language": "python",
   "name": "python3"
  },
  "language_info": {
   "codemirror_mode": {
    "name": "ipython",
    "version": 3
   },
   "file_extension": ".py",
   "mimetype": "text/x-python",
   "name": "python",
   "nbconvert_exporter": "python",
   "pygments_lexer": "ipython3",
   "version": "3.13.2"
  }
 },
 "nbformat": 4,
 "nbformat_minor": 2
}
